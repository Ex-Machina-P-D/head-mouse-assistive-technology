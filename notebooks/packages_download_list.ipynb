{
 "cells": [
  {
   "cell_type": "markdown",
   "metadata": {},
   "source": [
    "# LISTA DE PACOTES DE PYTHON\n",
    "\n",
    "Este arquivo pode ser usado para baixar e verificar os pacotes Python instalados."
   ]
  },
  {
   "cell_type": "code",
   "execution_count": 1,
   "metadata": {},
   "outputs": [
    {
     "name": "stdout",
     "output_type": "stream",
     "text": [
      "Requirement already satisfied: opencv-python==4.10.0.84 in /home/dewillim/Desktop/UNIFEI/Ex-Machina/1_Develop_25/head-mouse-assistive-technology/.venv/lib/python3.12/site-packages (4.10.0.84)\n",
      "Requirement already satisfied: numpy>=1.21.2 in /home/dewillim/Desktop/UNIFEI/Ex-Machina/1_Develop_25/head-mouse-assistive-technology/.venv/lib/python3.12/site-packages (from opencv-python==4.10.0.84) (2.2.6)\n",
      "Note: you may need to restart the kernel to use updated packages.\n"
     ]
    }
   ],
   "source": [
    "# Download do opencv na versão 4.10.0.84\n",
    "%pip install opencv-python==4.10.0.84"
   ]
  },
  {
   "cell_type": "code",
   "execution_count": 2,
   "metadata": {},
   "outputs": [
    {
     "name": "stdout",
     "output_type": "stream",
     "text": [
      "Name: opencv-python\n",
      "Version: 4.10.0.84\n",
      "Summary: Wrapper package for OpenCV python bindings.\n",
      "Home-page: https://github.com/opencv/opencv-python\n",
      "Author: \n",
      "Author-email: \n",
      "License: Apache 2.0\n",
      "Location: /home/dewillim/Desktop/UNIFEI/Ex-Machina/1_Develop_25/head-mouse-assistive-technology/.venv/lib/python3.12/site-packages\n",
      "Requires: numpy\n",
      "Required-by: \n",
      "Note: you may need to restart the kernel to use updated packages.\n"
     ]
    }
   ],
   "source": [
    "# Ver versão do opencv instalada\n",
    "%pip show opencv-python"
   ]
  },
  {
   "cell_type": "code",
   "execution_count": 3,
   "metadata": {},
   "outputs": [
    {
     "name": "stdout",
     "output_type": "stream",
     "text": [
      "Requirement already satisfied: mediapipe==0.10.14 in /home/dewillim/Desktop/UNIFEI/Ex-Machina/1_Develop_25/head-mouse-assistive-technology/.venv/lib/python3.12/site-packages (0.10.14)\n",
      "Requirement already satisfied: absl-py in /home/dewillim/Desktop/UNIFEI/Ex-Machina/1_Develop_25/head-mouse-assistive-technology/.venv/lib/python3.12/site-packages (from mediapipe==0.10.14) (2.3.0)\n",
      "Requirement already satisfied: attrs>=19.1.0 in /home/dewillim/Desktop/UNIFEI/Ex-Machina/1_Develop_25/head-mouse-assistive-technology/.venv/lib/python3.12/site-packages (from mediapipe==0.10.14) (25.3.0)\n",
      "Requirement already satisfied: flatbuffers>=2.0 in /home/dewillim/Desktop/UNIFEI/Ex-Machina/1_Develop_25/head-mouse-assistive-technology/.venv/lib/python3.12/site-packages (from mediapipe==0.10.14) (25.2.10)\n",
      "Requirement already satisfied: jax in /home/dewillim/Desktop/UNIFEI/Ex-Machina/1_Develop_25/head-mouse-assistive-technology/.venv/lib/python3.12/site-packages (from mediapipe==0.10.14) (0.6.1)\n",
      "Requirement already satisfied: jaxlib in /home/dewillim/Desktop/UNIFEI/Ex-Machina/1_Develop_25/head-mouse-assistive-technology/.venv/lib/python3.12/site-packages (from mediapipe==0.10.14) (0.6.1)\n",
      "Requirement already satisfied: matplotlib in /home/dewillim/Desktop/UNIFEI/Ex-Machina/1_Develop_25/head-mouse-assistive-technology/.venv/lib/python3.12/site-packages (from mediapipe==0.10.14) (3.10.3)\n",
      "Requirement already satisfied: numpy in /home/dewillim/Desktop/UNIFEI/Ex-Machina/1_Develop_25/head-mouse-assistive-technology/.venv/lib/python3.12/site-packages (from mediapipe==0.10.14) (2.2.6)\n",
      "Requirement already satisfied: opencv-contrib-python in /home/dewillim/Desktop/UNIFEI/Ex-Machina/1_Develop_25/head-mouse-assistive-technology/.venv/lib/python3.12/site-packages (from mediapipe==0.10.14) (4.11.0.86)\n",
      "Requirement already satisfied: protobuf<5,>=4.25.3 in /home/dewillim/Desktop/UNIFEI/Ex-Machina/1_Develop_25/head-mouse-assistive-technology/.venv/lib/python3.12/site-packages (from mediapipe==0.10.14) (4.25.7)\n",
      "Requirement already satisfied: sounddevice>=0.4.4 in /home/dewillim/Desktop/UNIFEI/Ex-Machina/1_Develop_25/head-mouse-assistive-technology/.venv/lib/python3.12/site-packages (from mediapipe==0.10.14) (0.5.2)\n",
      "Requirement already satisfied: CFFI>=1.0 in /home/dewillim/Desktop/UNIFEI/Ex-Machina/1_Develop_25/head-mouse-assistive-technology/.venv/lib/python3.12/site-packages (from sounddevice>=0.4.4->mediapipe==0.10.14) (1.17.1)\n",
      "Requirement already satisfied: pycparser in /home/dewillim/Desktop/UNIFEI/Ex-Machina/1_Develop_25/head-mouse-assistive-technology/.venv/lib/python3.12/site-packages (from CFFI>=1.0->sounddevice>=0.4.4->mediapipe==0.10.14) (2.22)\n",
      "Requirement already satisfied: ml_dtypes>=0.5.0 in /home/dewillim/Desktop/UNIFEI/Ex-Machina/1_Develop_25/head-mouse-assistive-technology/.venv/lib/python3.12/site-packages (from jax->mediapipe==0.10.14) (0.5.1)\n",
      "Requirement already satisfied: opt_einsum in /home/dewillim/Desktop/UNIFEI/Ex-Machina/1_Develop_25/head-mouse-assistive-technology/.venv/lib/python3.12/site-packages (from jax->mediapipe==0.10.14) (3.4.0)\n",
      "Requirement already satisfied: scipy>=1.11.1 in /home/dewillim/Desktop/UNIFEI/Ex-Machina/1_Develop_25/head-mouse-assistive-technology/.venv/lib/python3.12/site-packages (from jax->mediapipe==0.10.14) (1.15.3)\n",
      "Requirement already satisfied: contourpy>=1.0.1 in /home/dewillim/Desktop/UNIFEI/Ex-Machina/1_Develop_25/head-mouse-assistive-technology/.venv/lib/python3.12/site-packages (from matplotlib->mediapipe==0.10.14) (1.3.2)\n",
      "Requirement already satisfied: cycler>=0.10 in /home/dewillim/Desktop/UNIFEI/Ex-Machina/1_Develop_25/head-mouse-assistive-technology/.venv/lib/python3.12/site-packages (from matplotlib->mediapipe==0.10.14) (0.12.1)\n",
      "Requirement already satisfied: fonttools>=4.22.0 in /home/dewillim/Desktop/UNIFEI/Ex-Machina/1_Develop_25/head-mouse-assistive-technology/.venv/lib/python3.12/site-packages (from matplotlib->mediapipe==0.10.14) (4.58.0)\n",
      "Requirement already satisfied: kiwisolver>=1.3.1 in /home/dewillim/Desktop/UNIFEI/Ex-Machina/1_Develop_25/head-mouse-assistive-technology/.venv/lib/python3.12/site-packages (from matplotlib->mediapipe==0.10.14) (1.4.8)\n",
      "Requirement already satisfied: packaging>=20.0 in /home/dewillim/Desktop/UNIFEI/Ex-Machina/1_Develop_25/head-mouse-assistive-technology/.venv/lib/python3.12/site-packages (from matplotlib->mediapipe==0.10.14) (25.0)\n",
      "Requirement already satisfied: pillow>=8 in /home/dewillim/Desktop/UNIFEI/Ex-Machina/1_Develop_25/head-mouse-assistive-technology/.venv/lib/python3.12/site-packages (from matplotlib->mediapipe==0.10.14) (11.2.1)\n",
      "Requirement already satisfied: pyparsing>=2.3.1 in /home/dewillim/Desktop/UNIFEI/Ex-Machina/1_Develop_25/head-mouse-assistive-technology/.venv/lib/python3.12/site-packages (from matplotlib->mediapipe==0.10.14) (3.2.3)\n",
      "Requirement already satisfied: python-dateutil>=2.7 in /home/dewillim/Desktop/UNIFEI/Ex-Machina/1_Develop_25/head-mouse-assistive-technology/.venv/lib/python3.12/site-packages (from matplotlib->mediapipe==0.10.14) (2.9.0.post0)\n",
      "Requirement already satisfied: six>=1.5 in /home/dewillim/Desktop/UNIFEI/Ex-Machina/1_Develop_25/head-mouse-assistive-technology/.venv/lib/python3.12/site-packages (from python-dateutil>=2.7->matplotlib->mediapipe==0.10.14) (1.17.0)\n",
      "Note: you may need to restart the kernel to use updated packages.\n"
     ]
    }
   ],
   "source": [
    "# Download do mrdiapipe na versão 0.10.14\n",
    "%pip install mediapipe==0.10.14"
   ]
  },
  {
   "cell_type": "code",
   "execution_count": 4,
   "metadata": {},
   "outputs": [
    {
     "name": "stdout",
     "output_type": "stream",
     "text": [
      "Name: mediapipe\n",
      "Version: 0.10.14\n",
      "Summary: MediaPipe is the simplest way for researchers and developers to build world-class ML solutions and applications for mobile, edge, cloud and the web.\n",
      "Home-page: https://github.com/google/mediapipe\n",
      "Author: The MediaPipe Authors\n",
      "Author-email: mediapipe@google.com\n",
      "License: Apache 2.0\n",
      "Location: /home/dewillim/Desktop/UNIFEI/Ex-Machina/1_Develop_25/head-mouse-assistive-technology/.venv/lib/python3.12/site-packages\n",
      "Requires: absl-py, attrs, flatbuffers, jax, jaxlib, matplotlib, numpy, opencv-contrib-python, protobuf, sounddevice\n",
      "Required-by: \n",
      "Note: you may need to restart the kernel to use updated packages.\n"
     ]
    }
   ],
   "source": [
    "# Ver versão do mediapipe instalada\n",
    "%pip show mediapipe"
   ]
  },
  {
   "cell_type": "code",
   "execution_count": 5,
   "metadata": {},
   "outputs": [
    {
     "name": "stdout",
     "output_type": "stream",
     "text": [
      "Requirement already satisfied: pyautogui==0.9.54 in /home/dewillim/Desktop/UNIFEI/Ex-Machina/1_Develop_25/head-mouse-assistive-technology/.venv/lib/python3.12/site-packages (0.9.54)\n",
      "Requirement already satisfied: python3-Xlib in /home/dewillim/Desktop/UNIFEI/Ex-Machina/1_Develop_25/head-mouse-assistive-technology/.venv/lib/python3.12/site-packages (from pyautogui==0.9.54) (0.15)\n",
      "Requirement already satisfied: pymsgbox in /home/dewillim/Desktop/UNIFEI/Ex-Machina/1_Develop_25/head-mouse-assistive-technology/.venv/lib/python3.12/site-packages (from pyautogui==0.9.54) (1.0.9)\n",
      "Requirement already satisfied: pytweening>=1.0.4 in /home/dewillim/Desktop/UNIFEI/Ex-Machina/1_Develop_25/head-mouse-assistive-technology/.venv/lib/python3.12/site-packages (from pyautogui==0.9.54) (1.2.0)\n",
      "Requirement already satisfied: pyscreeze>=0.1.21 in /home/dewillim/Desktop/UNIFEI/Ex-Machina/1_Develop_25/head-mouse-assistive-technology/.venv/lib/python3.12/site-packages (from pyautogui==0.9.54) (1.0.1)\n",
      "Requirement already satisfied: pygetwindow>=0.0.5 in /home/dewillim/Desktop/UNIFEI/Ex-Machina/1_Develop_25/head-mouse-assistive-technology/.venv/lib/python3.12/site-packages (from pyautogui==0.9.54) (0.0.9)\n",
      "Requirement already satisfied: mouseinfo in /home/dewillim/Desktop/UNIFEI/Ex-Machina/1_Develop_25/head-mouse-assistive-technology/.venv/lib/python3.12/site-packages (from pyautogui==0.9.54) (0.1.3)\n",
      "Requirement already satisfied: pyrect in /home/dewillim/Desktop/UNIFEI/Ex-Machina/1_Develop_25/head-mouse-assistive-technology/.venv/lib/python3.12/site-packages (from pygetwindow>=0.0.5->pyautogui==0.9.54) (0.2.0)\n",
      "Requirement already satisfied: pyperclip in /home/dewillim/Desktop/UNIFEI/Ex-Machina/1_Develop_25/head-mouse-assistive-technology/.venv/lib/python3.12/site-packages (from mouseinfo->pyautogui==0.9.54) (1.9.0)\n",
      "Note: you may need to restart the kernel to use updated packages.\n"
     ]
    }
   ],
   "source": [
    "# Download do pyautogui na versão 0.9.54\n",
    "%pip install pyautogui==0.9.54"
   ]
  },
  {
   "cell_type": "code",
   "execution_count": 6,
   "metadata": {},
   "outputs": [
    {
     "name": "stdout",
     "output_type": "stream",
     "text": [
      "Name: PyAutoGUI\n",
      "Version: 0.9.54\n",
      "Summary: PyAutoGUI lets Python control the mouse and keyboard, and other GUI automation tasks. For Windows, macOS, and Linux, on Python 3 and 2.\n",
      "Home-page: https://github.com/asweigart/pyautogui\n",
      "Author: Al Sweigart\n",
      "Author-email: al@inventwithpython.com\n",
      "License: BSD\n",
      "Location: /home/dewillim/Desktop/UNIFEI/Ex-Machina/1_Develop_25/head-mouse-assistive-technology/.venv/lib/python3.12/site-packages\n",
      "Requires: mouseinfo, pygetwindow, pymsgbox, pyscreeze, python3-Xlib, pytweening\n",
      "Required-by: \n",
      "Note: you may need to restart the kernel to use updated packages.\n"
     ]
    }
   ],
   "source": [
    "# Ver versão do pyautogui instalada\n",
    "%pip show pyautogui"
   ]
  },
  {
   "cell_type": "code",
   "execution_count": 7,
   "metadata": {},
   "outputs": [
    {
     "name": "stdout",
     "output_type": "stream",
     "text": [
      "Requirement already satisfied: SpeechRecognition==3.11.0 in /home/dewillim/Desktop/UNIFEI/Ex-Machina/1_Develop_25/head-mouse-assistive-technology/.venv/lib/python3.12/site-packages (3.11.0)\n",
      "Requirement already satisfied: requests>=2.26.0 in /home/dewillim/Desktop/UNIFEI/Ex-Machina/1_Develop_25/head-mouse-assistive-technology/.venv/lib/python3.12/site-packages (from SpeechRecognition==3.11.0) (2.32.3)\n",
      "Requirement already satisfied: typing-extensions in /home/dewillim/Desktop/UNIFEI/Ex-Machina/1_Develop_25/head-mouse-assistive-technology/.venv/lib/python3.12/site-packages (from SpeechRecognition==3.11.0) (4.13.2)\n",
      "Requirement already satisfied: charset-normalizer<4,>=2 in /home/dewillim/Desktop/UNIFEI/Ex-Machina/1_Develop_25/head-mouse-assistive-technology/.venv/lib/python3.12/site-packages (from requests>=2.26.0->SpeechRecognition==3.11.0) (3.4.2)\n",
      "Requirement already satisfied: idna<4,>=2.5 in /home/dewillim/Desktop/UNIFEI/Ex-Machina/1_Develop_25/head-mouse-assistive-technology/.venv/lib/python3.12/site-packages (from requests>=2.26.0->SpeechRecognition==3.11.0) (3.10)\n",
      "Requirement already satisfied: urllib3<3,>=1.21.1 in /home/dewillim/Desktop/UNIFEI/Ex-Machina/1_Develop_25/head-mouse-assistive-technology/.venv/lib/python3.12/site-packages (from requests>=2.26.0->SpeechRecognition==3.11.0) (2.4.0)\n",
      "Requirement already satisfied: certifi>=2017.4.17 in /home/dewillim/Desktop/UNIFEI/Ex-Machina/1_Develop_25/head-mouse-assistive-technology/.venv/lib/python3.12/site-packages (from requests>=2.26.0->SpeechRecognition==3.11.0) (2025.4.26)\n",
      "Note: you may need to restart the kernel to use updated packages.\n"
     ]
    }
   ],
   "source": [
    "# Download do speechrecognition na versão 3.11.0\n",
    "%pip install SpeechRecognition==3.11.0"
   ]
  },
  {
   "cell_type": "code",
   "execution_count": 8,
   "metadata": {},
   "outputs": [
    {
     "name": "stdout",
     "output_type": "stream",
     "text": [
      "Name: SpeechRecognition\n",
      "Version: 3.11.0\n",
      "Summary: Library for performing speech recognition, with support for several engines and APIs, online and offline.\n",
      "Home-page: https://github.com/Uberi/speech_recognition#readme\n",
      "Author: Anthony Zhang (Uberi)\n",
      "Author-email: azhang9@gmail.com\n",
      "License: BSD\n",
      "Location: /home/dewillim/Desktop/UNIFEI/Ex-Machina/1_Develop_25/head-mouse-assistive-technology/.venv/lib/python3.12/site-packages\n",
      "Requires: requests, typing-extensions\n",
      "Required-by: \n",
      "Note: you may need to restart the kernel to use updated packages.\n"
     ]
    }
   ],
   "source": [
    "# Ver versão do speechrecognition instalada\n",
    "%pip show SpeechRecognition"
   ]
  },
  {
   "cell_type": "code",
   "execution_count": 14,
   "metadata": {},
   "outputs": [
    {
     "name": "stdout",
     "output_type": "stream",
     "text": [
      "Collecting pyaudio==0.2.14\n",
      "  Using cached PyAudio-0.2.14.tar.gz (47 kB)\n",
      "  Installing build dependencies ... \u001b[?25ldone\n",
      "\u001b[?25h  Getting requirements to build wheel ... \u001b[?25ldone\n",
      "\u001b[?25h  Preparing metadata (pyproject.toml) ... \u001b[?25ldone\n",
      "\u001b[?25hBuilding wheels for collected packages: pyaudio\n",
      "  Building wheel for pyaudio (pyproject.toml) ... \u001b[?25ldone\n",
      "\u001b[?25h  Created wheel for pyaudio: filename=pyaudio-0.2.14-cp312-cp312-linux_x86_64.whl size=68520 sha256=a22e9b1166fa8bbdb65fc53e2f339c28a92f52ab0b57493e4e469906b119ead1\n",
      "  Stored in directory: /home/dewillim/.cache/pip/wheels/68/c7/33/c6a6b210cb5819ec5c219928c794a447742a7d86d21c0b92e6\n",
      "Successfully built pyaudio\n",
      "Installing collected packages: pyaudio\n",
      "Successfully installed pyaudio-0.2.14\n",
      "Note: you may need to restart the kernel to use updated packages.\n"
     ]
    }
   ],
   "source": [
    "# Download do pyaudio na versão 0.2.14\n",
    "%pip install pyaudio==0.2.14"
   ]
  },
  {
   "cell_type": "code",
   "execution_count": 15,
   "metadata": {},
   "outputs": [
    {
     "name": "stdout",
     "output_type": "stream",
     "text": [
      "Name: PyAudio\n",
      "Version: 0.2.14\n",
      "Summary: Cross-platform audio I/O with PortAudio\n",
      "Home-page: https://people.csail.mit.edu/hubert/pyaudio/\n",
      "Author: Hubert Pham\n",
      "Author-email: \n",
      "License: MIT\n",
      "Location: /home/dewillim/Desktop/UNIFEI/Ex-Machina/1_Develop_25/head-mouse-assistive-technology/.venv/lib/python3.12/site-packages\n",
      "Requires: \n",
      "Required-by: \n",
      "Note: you may need to restart the kernel to use updated packages.\n"
     ]
    }
   ],
   "source": [
    "# Ver versão do pyaudio instalada\n",
    "%pip show pyaudio"
   ]
  },
  {
   "cell_type": "code",
   "execution_count": 12,
   "metadata": {},
   "outputs": [
    {
     "name": "stdout",
     "output_type": "stream",
     "text": [
      "Requirement already satisfied: pytest==8.3.3 in /home/dewillim/Desktop/UNIFEI/Ex-Machina/1_Develop_25/head-mouse-assistive-technology/.venv/lib/python3.12/site-packages (8.3.3)\n",
      "Requirement already satisfied: iniconfig in /home/dewillim/Desktop/UNIFEI/Ex-Machina/1_Develop_25/head-mouse-assistive-technology/.venv/lib/python3.12/site-packages (from pytest==8.3.3) (2.1.0)\n",
      "Requirement already satisfied: packaging in /home/dewillim/Desktop/UNIFEI/Ex-Machina/1_Develop_25/head-mouse-assistive-technology/.venv/lib/python3.12/site-packages (from pytest==8.3.3) (25.0)\n",
      "Requirement already satisfied: pluggy<2,>=1.5 in /home/dewillim/Desktop/UNIFEI/Ex-Machina/1_Develop_25/head-mouse-assistive-technology/.venv/lib/python3.12/site-packages (from pytest==8.3.3) (1.6.0)\n",
      "Note: you may need to restart the kernel to use updated packages.\n"
     ]
    }
   ],
   "source": [
    "# Download do pytest\n",
    "%pip install pytest==8.3.3"
   ]
  },
  {
   "cell_type": "code",
   "execution_count": 13,
   "metadata": {},
   "outputs": [
    {
     "name": "stdout",
     "output_type": "stream",
     "text": [
      "Name: pytest\n",
      "Version: 8.3.3\n",
      "Summary: pytest: simple powerful testing with Python\n",
      "Home-page: https://docs.pytest.org/en/latest/\n",
      "Author: Holger Krekel, Bruno Oliveira, Ronny Pfannschmidt, Floris Bruynooghe, Brianna Laugher, Florian Bruhin, Others (See AUTHORS)\n",
      "Author-email: \n",
      "License: MIT\n",
      "Location: /home/dewillim/Desktop/UNIFEI/Ex-Machina/1_Develop_25/head-mouse-assistive-technology/.venv/lib/python3.12/site-packages\n",
      "Requires: iniconfig, packaging, pluggy\n",
      "Required-by: \n",
      "Note: you may need to restart the kernel to use updated packages.\n"
     ]
    }
   ],
   "source": [
    "# Ver versão do pytest instalada\n",
    "%pip show pytest"
   ]
  }
 ],
 "metadata": {
  "kernelspec": {
   "display_name": ".venv",
   "language": "python",
   "name": "python3"
  },
  "language_info": {
   "codemirror_mode": {
    "name": "ipython",
    "version": 3
   },
   "file_extension": ".py",
   "mimetype": "text/x-python",
   "name": "python",
   "nbconvert_exporter": "python",
   "pygments_lexer": "ipython3",
   "version": "3.12.3"
  }
 },
 "nbformat": 4,
 "nbformat_minor": 2
}
