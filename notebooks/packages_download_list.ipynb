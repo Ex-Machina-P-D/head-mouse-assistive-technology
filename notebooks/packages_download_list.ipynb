{
 "cells": [
  {
   "cell_type": "markdown",
   "metadata": {},
   "source": [
    "# LISTA DE PACOTES DE PYTHON\n",
    "\n",
    "Este arquivo pode ser usado para baixar e verificar os pacotes Python instalados."
   ]
  },
  {
   "cell_type": "code",
   "execution_count": 9,
   "metadata": {},
   "outputs": [
    {
     "name": "stdout",
     "output_type": "stream",
     "text": [
      "Requirement already satisfied: opencv-python in c:\\users\\tanabe\\development\\head-mouse-assistive-technology\\venv\\lib\\site-packages (4.10.0.84)\n",
      "Requirement already satisfied: numpy>=1.21.2 in c:\\users\\tanabe\\development\\head-mouse-assistive-technology\\venv\\lib\\site-packages (from opencv-python) (2.1.2)\n"
     ]
    }
   ],
   "source": [
    "# Download do opencv na versão 4.10.0.84\n",
    "!pip install opencv-python==4.10.0.84"
   ]
  },
  {
   "cell_type": "code",
   "execution_count": 10,
   "metadata": {},
   "outputs": [
    {
     "name": "stdout",
     "output_type": "stream",
     "text": [
      "Name: opencv-python\n",
      "Version: 4.10.0.84\n",
      "Summary: Wrapper package for OpenCV python bindings.\n",
      "Home-page: https://github.com/opencv/opencv-python\n",
      "Author: \n",
      "Author-email: \n",
      "License: Apache 2.0\n",
      "Location: C:\\Users\\Tanabe\\Development\\head-mouse-assistive-technology\\venv\\Lib\\site-packages\n",
      "Requires: numpy\n",
      "Required-by: \n"
     ]
    }
   ],
   "source": [
    "# Ver versão do opencv instalada\n",
    "!pip show opencv-python"
   ]
  },
  {
   "cell_type": "code",
   "execution_count": 11,
   "metadata": {},
   "outputs": [
    {
     "name": "stdout",
     "output_type": "stream",
     "text": [
      "Collecting mediapipe\n",
      "  Downloading mediapipe-0.10.14-cp312-cp312-win_amd64.whl.metadata (9.9 kB)\n",
      "Collecting absl-py (from mediapipe)\n",
      "  Downloading absl_py-2.1.0-py3-none-any.whl.metadata (2.3 kB)\n",
      "Collecting attrs>=19.1.0 (from mediapipe)\n",
      "  Downloading attrs-24.2.0-py3-none-any.whl.metadata (11 kB)\n",
      "Collecting flatbuffers>=2.0 (from mediapipe)\n",
      "  Using cached flatbuffers-24.3.25-py2.py3-none-any.whl.metadata (850 bytes)\n",
      "Collecting jax (from mediapipe)\n",
      "  Downloading jax-0.4.35-py3-none-any.whl.metadata (22 kB)\n",
      "Collecting jaxlib (from mediapipe)\n",
      "  Downloading jaxlib-0.4.35-cp312-cp312-win_amd64.whl.metadata (1.0 kB)\n",
      "Collecting matplotlib (from mediapipe)\n",
      "  Downloading matplotlib-3.9.2-cp312-cp312-win_amd64.whl.metadata (11 kB)\n",
      "Requirement already satisfied: numpy in c:\\users\\tanabe\\development\\head-mouse-assistive-technology\\venv\\lib\\site-packages (from mediapipe) (2.1.2)\n",
      "Collecting opencv-contrib-python (from mediapipe)\n",
      "  Downloading opencv_contrib_python-4.10.0.84-cp37-abi3-win_amd64.whl.metadata (20 kB)\n",
      "Collecting protobuf<5,>=4.25.3 (from mediapipe)\n",
      "  Downloading protobuf-4.25.5-cp310-abi3-win_amd64.whl.metadata (541 bytes)\n",
      "Collecting sounddevice>=0.4.4 (from mediapipe)\n",
      "  Downloading sounddevice-0.5.1-py3-none-win_amd64.whl.metadata (1.4 kB)\n",
      "Collecting CFFI>=1.0 (from sounddevice>=0.4.4->mediapipe)\n",
      "  Downloading cffi-1.17.1-cp312-cp312-win_amd64.whl.metadata (1.6 kB)\n",
      "Collecting ml-dtypes>=0.4.0 (from jax->mediapipe)\n",
      "  Downloading ml_dtypes-0.5.0-cp312-cp312-win_amd64.whl.metadata (22 kB)\n",
      "Collecting opt-einsum (from jax->mediapipe)\n",
      "  Downloading opt_einsum-3.4.0-py3-none-any.whl.metadata (6.3 kB)\n",
      "Collecting scipy>=1.10 (from jax->mediapipe)\n",
      "  Downloading scipy-1.14.1-cp312-cp312-win_amd64.whl.metadata (60 kB)\n",
      "Collecting contourpy>=1.0.1 (from matplotlib->mediapipe)\n",
      "  Downloading contourpy-1.3.0-cp312-cp312-win_amd64.whl.metadata (5.4 kB)\n",
      "Collecting cycler>=0.10 (from matplotlib->mediapipe)\n",
      "  Using cached cycler-0.12.1-py3-none-any.whl.metadata (3.8 kB)\n",
      "Collecting fonttools>=4.22.0 (from matplotlib->mediapipe)\n",
      "  Downloading fonttools-4.54.1-cp312-cp312-win_amd64.whl.metadata (167 kB)\n",
      "Collecting kiwisolver>=1.3.1 (from matplotlib->mediapipe)\n",
      "  Downloading kiwisolver-1.4.7-cp312-cp312-win_amd64.whl.metadata (6.4 kB)\n",
      "Requirement already satisfied: packaging>=20.0 in c:\\users\\tanabe\\development\\head-mouse-assistive-technology\\venv\\lib\\site-packages (from matplotlib->mediapipe) (24.1)\n",
      "Collecting pillow>=8 (from matplotlib->mediapipe)\n",
      "  Downloading pillow-11.0.0-cp312-cp312-win_amd64.whl.metadata (9.3 kB)\n",
      "Collecting pyparsing>=2.3.1 (from matplotlib->mediapipe)\n",
      "  Downloading pyparsing-3.2.0-py3-none-any.whl.metadata (5.0 kB)\n",
      "Requirement already satisfied: python-dateutil>=2.7 in c:\\users\\tanabe\\development\\head-mouse-assistive-technology\\venv\\lib\\site-packages (from matplotlib->mediapipe) (2.9.0.post0)\n",
      "Collecting pycparser (from CFFI>=1.0->sounddevice>=0.4.4->mediapipe)\n",
      "  Downloading pycparser-2.22-py3-none-any.whl.metadata (943 bytes)\n",
      "Requirement already satisfied: six>=1.5 in c:\\users\\tanabe\\development\\head-mouse-assistive-technology\\venv\\lib\\site-packages (from python-dateutil>=2.7->matplotlib->mediapipe) (1.16.0)\n",
      "Downloading mediapipe-0.10.14-cp312-cp312-win_amd64.whl (50.8 MB)\n",
      "   ---------------------------------------- 0.0/50.8 MB ? eta -:--:--\n",
      "   - -------------------------------------- 2.4/50.8 MB 12.2 MB/s eta 0:00:04\n",
      "   --- ------------------------------------ 4.7/50.8 MB 11.9 MB/s eta 0:00:04\n",
      "   ----- ---------------------------------- 7.3/50.8 MB 11.9 MB/s eta 0:00:04\n",
      "   ------- -------------------------------- 9.7/50.8 MB 11.8 MB/s eta 0:00:04\n",
      "   --------- ------------------------------ 11.5/50.8 MB 11.3 MB/s eta 0:00:04\n",
      "   ----------- ---------------------------- 14.2/50.8 MB 11.2 MB/s eta 0:00:04\n",
      "   ------------ --------------------------- 16.5/50.8 MB 11.4 MB/s eta 0:00:04\n",
      "   --------------- ------------------------ 19.1/50.8 MB 11.4 MB/s eta 0:00:03\n",
      "   ----------------- ---------------------- 21.8/50.8 MB 11.5 MB/s eta 0:00:03\n",
      "   ------------------ --------------------- 24.1/50.8 MB 11.5 MB/s eta 0:00:03\n",
      "   --------------------- ------------------ 26.7/50.8 MB 11.4 MB/s eta 0:00:03\n",
      "   ---------------------- ----------------- 29.1/50.8 MB 11.5 MB/s eta 0:00:02\n",
      "   ------------------------ --------------- 31.2/50.8 MB 11.4 MB/s eta 0:00:02\n",
      "   -------------------------- ------------- 33.6/50.8 MB 11.5 MB/s eta 0:00:02\n",
      "   ---------------------------- ----------- 35.7/50.8 MB 11.3 MB/s eta 0:00:02\n",
      "   ----------------------------- ---------- 37.5/50.8 MB 11.2 MB/s eta 0:00:02\n",
      "   ------------------------------ --------- 39.1/50.8 MB 10.9 MB/s eta 0:00:02\n",
      "   -------------------------------- ------- 41.2/50.8 MB 10.9 MB/s eta 0:00:01\n",
      "   ---------------------------------- ----- 43.8/50.8 MB 11.0 MB/s eta 0:00:01\n",
      "   ----------------------------------- ---- 44.6/50.8 MB 10.8 MB/s eta 0:00:01\n",
      "   ----------------------------------- ---- 45.6/50.8 MB 10.3 MB/s eta 0:00:01\n",
      "   ------------------------------------ --- 46.7/50.8 MB 10.2 MB/s eta 0:00:01\n",
      "   ------------------------------------- -- 48.0/50.8 MB 10.0 MB/s eta 0:00:01\n",
      "   -------------------------------------- - 49.3/50.8 MB 9.8 MB/s eta 0:00:01\n",
      "   ---------------------------------------  50.6/50.8 MB 9.7 MB/s eta 0:00:01\n",
      "   ---------------------------------------- 50.8/50.8 MB 9.5 MB/s eta 0:00:00\n",
      "Downloading attrs-24.2.0-py3-none-any.whl (63 kB)\n",
      "Using cached flatbuffers-24.3.25-py2.py3-none-any.whl (26 kB)\n",
      "Downloading protobuf-4.25.5-cp310-abi3-win_amd64.whl (413 kB)\n",
      "Downloading sounddevice-0.5.1-py3-none-win_amd64.whl (363 kB)\n",
      "Downloading absl_py-2.1.0-py3-none-any.whl (133 kB)\n",
      "Downloading jax-0.4.35-py3-none-any.whl (2.2 MB)\n",
      "   ---------------------------------------- 0.0/2.2 MB ? eta -:--:--\n",
      "   ------------------- -------------------- 1.0/2.2 MB 5.6 MB/s eta 0:00:01\n",
      "   ---------------------------------------- 2.2/2.2 MB 6.4 MB/s eta 0:00:00\n",
      "Downloading jaxlib-0.4.35-cp312-cp312-win_amd64.whl (56.6 MB)\n",
      "   ---------------------------------------- 0.0/56.6 MB ? eta -:--:--\n",
      "    --------------------------------------- 1.3/56.6 MB 7.4 MB/s eta 0:00:08\n",
      "   -- ------------------------------------- 3.4/56.6 MB 8.4 MB/s eta 0:00:07\n",
      "   --- ------------------------------------ 5.2/56.6 MB 8.9 MB/s eta 0:00:06\n",
      "   ----- ---------------------------------- 7.6/56.6 MB 9.4 MB/s eta 0:00:06\n",
      "   ------- -------------------------------- 10.0/56.6 MB 9.7 MB/s eta 0:00:05\n",
      "   -------- ------------------------------- 12.3/56.6 MB 10.0 MB/s eta 0:00:05\n",
      "   ---------- ----------------------------- 14.9/56.6 MB 10.2 MB/s eta 0:00:05\n",
      "   ------------ --------------------------- 17.3/56.6 MB 10.5 MB/s eta 0:00:04\n",
      "   ------------- -------------------------- 19.4/56.6 MB 10.4 MB/s eta 0:00:04\n",
      "   --------------- ------------------------ 21.8/56.6 MB 10.4 MB/s eta 0:00:04\n",
      "   ----------------- ---------------------- 24.1/56.6 MB 10.5 MB/s eta 0:00:04\n",
      "   ------------------ --------------------- 26.7/56.6 MB 10.7 MB/s eta 0:00:03\n",
      "   -------------------- ------------------- 29.4/56.6 MB 10.8 MB/s eta 0:00:03\n",
      "   ---------------------- ----------------- 31.7/56.6 MB 10.8 MB/s eta 0:00:03\n",
      "   ------------------------ --------------- 34.3/56.6 MB 10.9 MB/s eta 0:00:03\n",
      "   ------------------------- -------------- 36.4/56.6 MB 10.9 MB/s eta 0:00:02\n",
      "   --------------------------- ------------ 38.5/56.6 MB 10.8 MB/s eta 0:00:02\n",
      "   ---------------------------- ----------- 40.9/56.6 MB 10.8 MB/s eta 0:00:02\n",
      "   ------------------------------ --------- 43.3/56.6 MB 10.9 MB/s eta 0:00:02\n",
      "   -------------------------------- ------- 45.6/56.6 MB 10.8 MB/s eta 0:00:02\n",
      "   --------------------------------- ------ 48.0/56.6 MB 10.8 MB/s eta 0:00:01\n",
      "   ----------------------------------- ---- 50.3/56.6 MB 10.9 MB/s eta 0:00:01\n",
      "   ------------------------------------- -- 53.0/56.6 MB 10.9 MB/s eta 0:00:01\n",
      "   ---------------------------------------  55.3/56.6 MB 10.9 MB/s eta 0:00:01\n",
      "   ---------------------------------------- 56.6/56.6 MB 10.8 MB/s eta 0:00:00\n",
      "Downloading matplotlib-3.9.2-cp312-cp312-win_amd64.whl (7.8 MB)\n",
      "   ---------------------------------------- 0.0/7.8 MB ? eta -:--:--\n",
      "   ------------ --------------------------- 2.4/7.8 MB 11.2 MB/s eta 0:00:01\n",
      "   ---------------------- ----------------- 4.5/7.8 MB 10.8 MB/s eta 0:00:01\n",
      "   --------------------------------- ------ 6.6/7.8 MB 10.3 MB/s eta 0:00:01\n",
      "   ---------------------------------------- 7.8/7.8 MB 10.3 MB/s eta 0:00:00\n",
      "Downloading opencv_contrib_python-4.10.0.84-cp37-abi3-win_amd64.whl (45.5 MB)\n",
      "   ---------------------------------------- 0.0/45.5 MB ? eta -:--:--\n",
      "   - -------------------------------------- 2.1/45.5 MB 11.8 MB/s eta 0:00:04\n",
      "   ---- ----------------------------------- 4.7/45.5 MB 11.4 MB/s eta 0:00:04\n",
      "   ------ --------------------------------- 7.3/45.5 MB 11.6 MB/s eta 0:00:04\n",
      "   -------- ------------------------------- 9.7/45.5 MB 11.6 MB/s eta 0:00:04\n",
      "   ---------- ----------------------------- 12.1/45.5 MB 11.6 MB/s eta 0:00:03\n",
      "   ------------ --------------------------- 14.4/45.5 MB 11.6 MB/s eta 0:00:03\n",
      "   -------------- ------------------------- 16.8/45.5 MB 11.5 MB/s eta 0:00:03\n",
      "   ---------------- ----------------------- 19.1/45.5 MB 11.5 MB/s eta 0:00:03\n",
      "   ------------------- -------------------- 21.8/45.5 MB 11.6 MB/s eta 0:00:03\n",
      "   --------------------- ------------------ 24.1/45.5 MB 11.6 MB/s eta 0:00:02\n",
      "   ----------------------- ---------------- 26.7/45.5 MB 11.6 MB/s eta 0:00:02\n",
      "   ------------------------- -------------- 29.4/45.5 MB 11.6 MB/s eta 0:00:02\n",
      "   --------------------------- ------------ 31.7/45.5 MB 11.6 MB/s eta 0:00:02\n",
      "   ------------------------------ --------- 34.3/45.5 MB 11.7 MB/s eta 0:00:01\n",
      "   -------------------------------- ------- 36.7/45.5 MB 11.7 MB/s eta 0:00:01\n",
      "   ---------------------------------- ----- 39.3/45.5 MB 11.7 MB/s eta 0:00:01\n",
      "   ------------------------------------ --- 41.9/45.5 MB 11.7 MB/s eta 0:00:01\n",
      "   ---------------------------------------  44.6/45.5 MB 11.7 MB/s eta 0:00:01\n",
      "   ---------------------------------------- 45.5/45.5 MB 11.5 MB/s eta 0:00:00\n",
      "Downloading cffi-1.17.1-cp312-cp312-win_amd64.whl (181 kB)\n",
      "Downloading contourpy-1.3.0-cp312-cp312-win_amd64.whl (218 kB)\n",
      "Using cached cycler-0.12.1-py3-none-any.whl (8.3 kB)\n",
      "Downloading fonttools-4.54.1-cp312-cp312-win_amd64.whl (2.2 MB)\n",
      "   ---------------------------------------- 0.0/2.2 MB ? eta -:--:--\n",
      "   ---------------------------------------- 2.2/2.2 MB 10.4 MB/s eta 0:00:00\n",
      "Downloading kiwisolver-1.4.7-cp312-cp312-win_amd64.whl (55 kB)\n",
      "Downloading ml_dtypes-0.5.0-cp312-cp312-win_amd64.whl (213 kB)\n",
      "Downloading pillow-11.0.0-cp312-cp312-win_amd64.whl (2.6 MB)\n",
      "   ---------------------------------------- 0.0/2.6 MB ? eta -:--:--\n",
      "   ------------------------------------ --- 2.4/2.6 MB 12.3 MB/s eta 0:00:01\n",
      "   ---------------------------------------- 2.6/2.6 MB 12.3 MB/s eta 0:00:00\n",
      "Downloading pyparsing-3.2.0-py3-none-any.whl (106 kB)\n",
      "Downloading scipy-1.14.1-cp312-cp312-win_amd64.whl (44.5 MB)\n",
      "   ---------------------------------------- 0.0/44.5 MB ? eta -:--:--\n",
      "   -- ------------------------------------- 2.4/44.5 MB 12.2 MB/s eta 0:00:04\n",
      "   ---- ----------------------------------- 4.7/44.5 MB 11.9 MB/s eta 0:00:04\n",
      "   ------ --------------------------------- 7.1/44.5 MB 11.8 MB/s eta 0:00:04\n",
      "   -------- ------------------------------- 9.7/44.5 MB 11.8 MB/s eta 0:00:03\n",
      "   ----------- ---------------------------- 12.3/44.5 MB 11.9 MB/s eta 0:00:03\n",
      "   ------------- -------------------------- 14.7/44.5 MB 11.7 MB/s eta 0:00:03\n",
      "   --------------- ------------------------ 16.8/44.5 MB 11.4 MB/s eta 0:00:03\n",
      "   ----------------- ---------------------- 19.1/44.5 MB 11.4 MB/s eta 0:00:03\n",
      "   ------------------- -------------------- 21.8/44.5 MB 11.5 MB/s eta 0:00:02\n",
      "   --------------------- ------------------ 24.1/44.5 MB 11.5 MB/s eta 0:00:02\n",
      "   ----------------------- ---------------- 26.5/44.5 MB 11.5 MB/s eta 0:00:02\n",
      "   -------------------------- ------------- 29.1/44.5 MB 11.5 MB/s eta 0:00:02\n",
      "   ---------------------------- ----------- 31.5/44.5 MB 11.5 MB/s eta 0:00:02\n",
      "   ------------------------------ --------- 34.1/44.5 MB 11.6 MB/s eta 0:00:01\n",
      "   -------------------------------- ------- 36.4/44.5 MB 11.6 MB/s eta 0:00:01\n",
      "   ---------------------------------- ----- 38.8/44.5 MB 11.6 MB/s eta 0:00:01\n",
      "   ------------------------------------ --- 41.2/44.5 MB 11.5 MB/s eta 0:00:01\n",
      "   ---------------------------------------  43.8/44.5 MB 11.5 MB/s eta 0:00:01\n",
      "   ---------------------------------------  44.3/44.5 MB 11.5 MB/s eta 0:00:01\n",
      "   ---------------------------------------- 44.5/44.5 MB 11.0 MB/s eta 0:00:00\n",
      "Downloading opt_einsum-3.4.0-py3-none-any.whl (71 kB)\n",
      "Downloading pycparser-2.22-py3-none-any.whl (117 kB)\n",
      "Installing collected packages: flatbuffers, scipy, pyparsing, pycparser, protobuf, pillow, opt-einsum, opencv-contrib-python, ml-dtypes, kiwisolver, fonttools, cycler, contourpy, attrs, absl-py, matplotlib, jaxlib, CFFI, sounddevice, jax, mediapipe\n",
      "Successfully installed CFFI-1.17.1 absl-py-2.1.0 attrs-24.2.0 contourpy-1.3.0 cycler-0.12.1 flatbuffers-24.3.25 fonttools-4.54.1 jax-0.4.35 jaxlib-0.4.35 kiwisolver-1.4.7 matplotlib-3.9.2 mediapipe-0.10.14 ml-dtypes-0.5.0 opencv-contrib-python-4.10.0.84 opt-einsum-3.4.0 pillow-11.0.0 protobuf-4.25.5 pycparser-2.22 pyparsing-3.2.0 scipy-1.14.1 sounddevice-0.5.1\n"
     ]
    }
   ],
   "source": [
    "# Download do mrdiapipe na versão 0.10.14\n",
    "!pip install mediapipe==0.10.14"
   ]
  },
  {
   "cell_type": "code",
   "execution_count": 12,
   "metadata": {},
   "outputs": [
    {
     "name": "stdout",
     "output_type": "stream",
     "text": [
      "Name: mediapipe\n",
      "Version: 0.10.14\n",
      "Summary: MediaPipe is the simplest way for researchers and developers to build world-class ML solutions and applications for mobile, edge, cloud and the web.\n",
      "Home-page: https://github.com/google/mediapipe\n",
      "Author: The MediaPipe Authors\n",
      "Author-email: mediapipe@google.com\n",
      "License: Apache 2.0\n",
      "Location: C:\\Users\\Tanabe\\Development\\head-mouse-assistive-technology\\venv\\Lib\\site-packages\n",
      "Requires: absl-py, attrs, flatbuffers, jax, jaxlib, matplotlib, numpy, opencv-contrib-python, protobuf, sounddevice\n",
      "Required-by: \n"
     ]
    }
   ],
   "source": [
    "# Ver versão do mediapipe instalada\n",
    "!pip show mediapipe"
   ]
  },
  {
   "cell_type": "code",
   "execution_count": 5,
   "metadata": {},
   "outputs": [
    {
     "name": "stdout",
     "output_type": "stream",
     "text": [
      "Collecting pyautogui==0.9.54\n",
      "  Downloading PyAutoGUI-0.9.54.tar.gz (61 kB)\n",
      "  Installing build dependencies: started\n",
      "  Installing build dependencies: finished with status 'done'\n",
      "  Getting requirements to build wheel: started\n",
      "  Getting requirements to build wheel: finished with status 'done'\n",
      "  Preparing metadata (pyproject.toml): started\n",
      "  Preparing metadata (pyproject.toml): finished with status 'done'\n",
      "Collecting pymsgbox (from pyautogui==0.9.54)\n",
      "  Downloading PyMsgBox-1.0.9.tar.gz (18 kB)\n",
      "  Installing build dependencies: started\n",
      "  Installing build dependencies: finished with status 'done'\n",
      "  Getting requirements to build wheel: started\n",
      "  Getting requirements to build wheel: finished with status 'done'\n",
      "  Preparing metadata (pyproject.toml): started\n",
      "  Preparing metadata (pyproject.toml): finished with status 'done'\n",
      "Collecting pytweening>=1.0.4 (from pyautogui==0.9.54)\n",
      "  Downloading pytweening-1.2.0.tar.gz (171 kB)\n",
      "  Installing build dependencies: started\n",
      "  Installing build dependencies: finished with status 'done'\n",
      "  Getting requirements to build wheel: started\n",
      "  Getting requirements to build wheel: finished with status 'done'\n",
      "  Preparing metadata (pyproject.toml): started\n",
      "  Preparing metadata (pyproject.toml): finished with status 'done'\n",
      "Collecting pyscreeze>=0.1.21 (from pyautogui==0.9.54)\n",
      "  Downloading pyscreeze-1.0.1.tar.gz (27 kB)\n",
      "  Installing build dependencies: started\n",
      "  Installing build dependencies: finished with status 'done'\n",
      "  Getting requirements to build wheel: started\n",
      "  Getting requirements to build wheel: finished with status 'done'\n",
      "  Preparing metadata (pyproject.toml): started\n",
      "  Preparing metadata (pyproject.toml): finished with status 'done'\n",
      "Collecting pygetwindow>=0.0.5 (from pyautogui==0.9.54)\n",
      "  Downloading PyGetWindow-0.0.9.tar.gz (9.7 kB)\n",
      "  Installing build dependencies: started\n",
      "  Installing build dependencies: finished with status 'done'\n",
      "  Getting requirements to build wheel: started\n",
      "  Getting requirements to build wheel: finished with status 'done'\n",
      "  Preparing metadata (pyproject.toml): started\n",
      "  Preparing metadata (pyproject.toml): finished with status 'done'\n",
      "Collecting mouseinfo (from pyautogui==0.9.54)\n",
      "  Downloading MouseInfo-0.1.3.tar.gz (10 kB)\n",
      "  Installing build dependencies: started\n",
      "  Installing build dependencies: finished with status 'done'\n",
      "  Getting requirements to build wheel: started\n",
      "  Getting requirements to build wheel: finished with status 'done'\n",
      "  Preparing metadata (pyproject.toml): started\n",
      "  Preparing metadata (pyproject.toml): finished with status 'done'\n",
      "Collecting pyrect (from pygetwindow>=0.0.5->pyautogui==0.9.54)\n",
      "  Downloading PyRect-0.2.0.tar.gz (17 kB)\n",
      "  Installing build dependencies: started\n",
      "  Installing build dependencies: finished with status 'done'\n",
      "  Getting requirements to build wheel: started\n",
      "  Getting requirements to build wheel: finished with status 'done'\n",
      "  Preparing metadata (pyproject.toml): started\n",
      "  Preparing metadata (pyproject.toml): finished with status 'done'\n",
      "Collecting pyperclip (from mouseinfo->pyautogui==0.9.54)\n",
      "  Downloading pyperclip-1.9.0.tar.gz (20 kB)\n",
      "  Installing build dependencies: started\n",
      "  Installing build dependencies: finished with status 'done'\n",
      "  Getting requirements to build wheel: started\n",
      "  Getting requirements to build wheel: finished with status 'done'\n",
      "  Preparing metadata (pyproject.toml): started\n",
      "  Preparing metadata (pyproject.toml): finished with status 'done'\n",
      "Building wheels for collected packages: pyautogui, pygetwindow, pyscreeze, pytweening, mouseinfo, pymsgbox, pyperclip, pyrect\n",
      "  Building wheel for pyautogui (pyproject.toml): started\n",
      "  Building wheel for pyautogui (pyproject.toml): finished with status 'done'\n",
      "  Created wheel for pyautogui: filename=PyAutoGUI-0.9.54-py3-none-any.whl size=37598 sha256=b62b63f4eda9566a9849ad21baac16a9b27df52c04919172661a86763533c7a6\n",
      "  Stored in directory: c:\\users\\tanabe\\appdata\\local\\packages\\pythonsoftwarefoundation.python.3.12_qbz5n2kfra8p0\\localcache\\local\\pip\\cache\\wheels\\d9\\d6\\47\\04075995b093ecc87c212c9a3dbd34e59456c6fe504d65c3e4\n",
      "  Building wheel for pygetwindow (pyproject.toml): started\n",
      "  Building wheel for pygetwindow (pyproject.toml): finished with status 'done'\n",
      "  Created wheel for pygetwindow: filename=PyGetWindow-0.0.9-py3-none-any.whl size=11081 sha256=01cc8b9a0dd71e137d2262a8f47dddacbae6285eb00491ea99a67757106bc42d\n",
      "  Stored in directory: c:\\users\\tanabe\\appdata\\local\\packages\\pythonsoftwarefoundation.python.3.12_qbz5n2kfra8p0\\localcache\\local\\pip\\cache\\wheels\\b3\\39\\81\\34dd7a2eca5f885f1f6e2796761970daf66a2d98ac1904f5f4\n",
      "  Building wheel for pyscreeze (pyproject.toml): started\n",
      "  Building wheel for pyscreeze (pyproject.toml): finished with status 'done'\n",
      "  Created wheel for pyscreeze: filename=PyScreeze-1.0.1-py3-none-any.whl size=14380 sha256=d49354ca0d88c2f2602557601ae27532fd36010cde0b09807c4bc78c91ac263f\n",
      "  Stored in directory: c:\\users\\tanabe\\appdata\\local\\packages\\pythonsoftwarefoundation.python.3.12_qbz5n2kfra8p0\\localcache\\local\\pip\\cache\\wheels\\cd\\3a\\c2\\7f2839239a069aa3c9564f6777cbb29d733720ef673f104f0d\n",
      "  Building wheel for pytweening (pyproject.toml): started\n",
      "  Building wheel for pytweening (pyproject.toml): finished with status 'done'\n",
      "  Created wheel for pytweening: filename=pytweening-1.2.0-py3-none-any.whl size=8029 sha256=78d84b98175d7614d5b436b12a4c29ce5407e6a82a1e63ad380c9508d3fe60b5\n",
      "  Stored in directory: c:\\users\\tanabe\\appdata\\local\\packages\\pythonsoftwarefoundation.python.3.12_qbz5n2kfra8p0\\localcache\\local\\pip\\cache\\wheels\\23\\d5\\13\\4e9bdadbfe3c78e47c675e7410c0eed2fbb63c5ea6cf1b40e7\n",
      "  Building wheel for mouseinfo (pyproject.toml): started\n",
      "  Building wheel for mouseinfo (pyproject.toml): finished with status 'done'\n",
      "  Created wheel for mouseinfo: filename=MouseInfo-0.1.3-py3-none-any.whl size=10902 sha256=70164a2fe2568c885f7ae0cfaac28a23df15fe943387649b507503784d14a618\n",
      "  Stored in directory: c:\\users\\tanabe\\appdata\\local\\packages\\pythonsoftwarefoundation.python.3.12_qbz5n2kfra8p0\\localcache\\local\\pip\\cache\\wheels\\b1\\9b\\f3\\08650eb7f00af32f07789f3c6a101e0d7fc762b9891ae843bb\n",
      "  Building wheel for pymsgbox (pyproject.toml): started\n",
      "  Building wheel for pymsgbox (pyproject.toml): finished with status 'done'\n",
      "  Created wheel for pymsgbox: filename=PyMsgBox-1.0.9-py3-none-any.whl size=7417 sha256=ba6a1698e87f6d46b30c14a34dbe25a7d6ac59bf629973ea87d00340ca47c954\n",
      "  Stored in directory: c:\\users\\tanabe\\appdata\\local\\packages\\pythonsoftwarefoundation.python.3.12_qbz5n2kfra8p0\\localcache\\local\\pip\\cache\\wheels\\55\\e7\\aa\\239163543708d1e15c3d9a1b89dbfe3954b0929a6df2951b83\n",
      "  Building wheel for pyperclip (pyproject.toml): started\n",
      "  Building wheel for pyperclip (pyproject.toml): finished with status 'done'\n",
      "  Created wheel for pyperclip: filename=pyperclip-1.9.0-py3-none-any.whl size=11018 sha256=aec95b9555eccff04eb1d033ba72935a462e2953791f2a266f54327a8479232c\n",
      "  Stored in directory: c:\\users\\tanabe\\appdata\\local\\packages\\pythonsoftwarefoundation.python.3.12_qbz5n2kfra8p0\\localcache\\local\\pip\\cache\\wheels\\e0\\e8\\fc\\8ab8aa326e33bc066ccd5f3ca9646eab4299881af933f94f09\n",
      "  Building wheel for pyrect (pyproject.toml): started\n",
      "  Building wheel for pyrect (pyproject.toml): finished with status 'done'\n",
      "  Created wheel for pyrect: filename=PyRect-0.2.0-py2.py3-none-any.whl size=11207 sha256=10cca79fa58735093a1f5e6f4858fa6d57ff6ca13b4cd1f433ac524fa3ab049b\n",
      "  Stored in directory: c:\\users\\tanabe\\appdata\\local\\packages\\pythonsoftwarefoundation.python.3.12_qbz5n2kfra8p0\\localcache\\local\\pip\\cache\\wheels\\0b\\1e\\d7\\0c74bd8f60b39c14d84e307398786002aa7ddc905927cc03c5\n",
      "Successfully built pyautogui pygetwindow pyscreeze pytweening mouseinfo pymsgbox pyperclip pyrect\n",
      "Installing collected packages: pytweening, pyscreeze, pyrect, pyperclip, pymsgbox, pygetwindow, mouseinfo, pyautogui\n",
      "Successfully installed mouseinfo-0.1.3 pyautogui-0.9.54 pygetwindow-0.0.9 pymsgbox-1.0.9 pyperclip-1.9.0 pyrect-0.2.0 pyscreeze-1.0.1 pytweening-1.2.0\n"
     ]
    }
   ],
   "source": [
    "# Download do pyautogui na versão 0.9.54\n",
    "!pip install pyautogui==0.9.54"
   ]
  },
  {
   "cell_type": "code",
   "execution_count": 6,
   "metadata": {},
   "outputs": [
    {
     "name": "stdout",
     "output_type": "stream",
     "text": [
      "Name: PyAutoGUI\n",
      "Version: 0.9.54\n",
      "Summary: PyAutoGUI lets Python control the mouse and keyboard, and other GUI automation tasks. For Windows, macOS, and Linux, on Python 3 and 2.\n",
      "Home-page: https://github.com/asweigart/pyautogui\n",
      "Author: Al Sweigart\n",
      "Author-email: al@inventwithpython.com\n",
      "License: BSD\n",
      "Location: C:\\Users\\Tanabe\\Development\\head-mouse-assistive-technology\\venv\\Lib\\site-packages\n",
      "Requires: mouseinfo, pygetwindow, pymsgbox, pyscreeze, pytweening\n",
      "Required-by: \n"
     ]
    }
   ],
   "source": [
    "# Ver versão do pyautogui instalada\n",
    "!pip show pyautogui"
   ]
  },
  {
   "cell_type": "code",
   "execution_count": 7,
   "metadata": {},
   "outputs": [
    {
     "name": "stdout",
     "output_type": "stream",
     "text": [
      "Collecting SpeechRecognition==3.11.0\n",
      "  Downloading SpeechRecognition-3.11.0-py2.py3-none-any.whl.metadata (28 kB)\n",
      "Collecting requests>=2.26.0 (from SpeechRecognition==3.11.0)\n",
      "  Using cached requests-2.32.3-py3-none-any.whl.metadata (4.6 kB)\n",
      "Collecting typing-extensions (from SpeechRecognition==3.11.0)\n",
      "  Using cached typing_extensions-4.12.2-py3-none-any.whl.metadata (3.0 kB)\n",
      "Collecting charset-normalizer<4,>=2 (from requests>=2.26.0->SpeechRecognition==3.11.0)\n",
      "  Downloading charset_normalizer-3.4.0-cp312-cp312-win_amd64.whl.metadata (34 kB)\n",
      "Collecting idna<4,>=2.5 (from requests>=2.26.0->SpeechRecognition==3.11.0)\n",
      "  Downloading idna-3.10-py3-none-any.whl.metadata (10 kB)\n",
      "Collecting urllib3<3,>=1.21.1 (from requests>=2.26.0->SpeechRecognition==3.11.0)\n",
      "  Downloading urllib3-2.2.3-py3-none-any.whl.metadata (6.5 kB)\n",
      "Collecting certifi>=2017.4.17 (from requests>=2.26.0->SpeechRecognition==3.11.0)\n",
      "  Downloading certifi-2024.8.30-py3-none-any.whl.metadata (2.2 kB)\n",
      "Downloading SpeechRecognition-3.11.0-py2.py3-none-any.whl (32.8 MB)\n",
      "   ---------------------------------------- 0.0/32.8 MB ? eta -:--:--\n",
      "   -- ------------------------------------- 2.4/32.8 MB 12.2 MB/s eta 0:00:03\n",
      "   ----- ---------------------------------- 4.7/32.8 MB 11.9 MB/s eta 0:00:03\n",
      "   -------- ------------------------------- 7.1/32.8 MB 11.5 MB/s eta 0:00:03\n",
      "   ---------- ----------------------------- 8.7/32.8 MB 10.3 MB/s eta 0:00:03\n",
      "   ------------- -------------------------- 10.7/32.8 MB 10.5 MB/s eta 0:00:03\n",
      "   --------------- ------------------------ 12.3/32.8 MB 9.6 MB/s eta 0:00:03\n",
      "   ----------------- ---------------------- 14.4/32.8 MB 9.6 MB/s eta 0:00:02\n",
      "   ------------------- -------------------- 16.3/32.8 MB 9.4 MB/s eta 0:00:02\n",
      "   ---------------------- ----------------- 18.1/32.8 MB 9.4 MB/s eta 0:00:02\n",
      "   ------------------------- -------------- 20.7/32.8 MB 9.6 MB/s eta 0:00:02\n",
      "   --------------------------- ------------ 22.8/32.8 MB 9.7 MB/s eta 0:00:02\n",
      "   ------------------------------ --------- 24.9/32.8 MB 9.7 MB/s eta 0:00:01\n",
      "   -------------------------------- ------- 27.0/32.8 MB 9.7 MB/s eta 0:00:01\n",
      "   ------------------------------------ --- 29.6/32.8 MB 9.9 MB/s eta 0:00:01\n",
      "   -------------------------------------- - 32.0/32.8 MB 10.0 MB/s eta 0:00:01\n",
      "   ---------------------------------------- 32.8/32.8 MB 9.9 MB/s eta 0:00:00\n",
      "Using cached requests-2.32.3-py3-none-any.whl (64 kB)\n",
      "Using cached typing_extensions-4.12.2-py3-none-any.whl (37 kB)\n",
      "Downloading certifi-2024.8.30-py3-none-any.whl (167 kB)\n",
      "Downloading charset_normalizer-3.4.0-cp312-cp312-win_amd64.whl (102 kB)\n",
      "Downloading idna-3.10-py3-none-any.whl (70 kB)\n",
      "Downloading urllib3-2.2.3-py3-none-any.whl (126 kB)\n",
      "Installing collected packages: urllib3, typing-extensions, idna, charset-normalizer, certifi, requests, SpeechRecognition\n",
      "Successfully installed SpeechRecognition-3.11.0 certifi-2024.8.30 charset-normalizer-3.4.0 idna-3.10 requests-2.32.3 typing-extensions-4.12.2 urllib3-2.2.3\n"
     ]
    }
   ],
   "source": [
    "# Download do speechrecognition na versão 3.11.0\n",
    "!pip install SpeechRecognition==3.11.0"
   ]
  },
  {
   "cell_type": "code",
   "execution_count": 8,
   "metadata": {},
   "outputs": [
    {
     "name": "stdout",
     "output_type": "stream",
     "text": [
      "Name: SpeechRecognition\n",
      "Version: 3.11.0\n",
      "Summary: Library for performing speech recognition, with support for several engines and APIs, online and offline.\n",
      "Home-page: https://github.com/Uberi/speech_recognition#readme\n",
      "Author: Anthony Zhang (Uberi)\n",
      "Author-email: azhang9@gmail.com\n",
      "License: BSD\n",
      "Location: C:\\Users\\Tanabe\\Development\\head-mouse-assistive-technology\\venv\\Lib\\site-packages\n",
      "Requires: requests, typing-extensions\n",
      "Required-by: \n"
     ]
    }
   ],
   "source": [
    "# Ver versão do speechrecognition instalada\n",
    "!pip show SpeechRecognition"
   ]
  },
  {
   "cell_type": "code",
   "execution_count": 13,
   "metadata": {},
   "outputs": [
    {
     "name": "stdout",
     "output_type": "stream",
     "text": [
      "Collecting pyaudio\n",
      "  Downloading PyAudio-0.2.14-cp312-cp312-win_amd64.whl.metadata (2.7 kB)\n",
      "Downloading PyAudio-0.2.14-cp312-cp312-win_amd64.whl (164 kB)\n",
      "Installing collected packages: pyaudio\n",
      "Successfully installed pyaudio-0.2.14\n"
     ]
    }
   ],
   "source": [
    "# Download do pyaudio na versão 0.2.14\n",
    "!pip install pyaudio==0.2.14"
   ]
  },
  {
   "cell_type": "code",
   "execution_count": 14,
   "metadata": {},
   "outputs": [
    {
     "name": "stdout",
     "output_type": "stream",
     "text": [
      "Name: PyAudio\n",
      "Version: 0.2.14\n",
      "Summary: Cross-platform audio I/O with PortAudio\n",
      "Home-page: https://people.csail.mit.edu/hubert/pyaudio/\n",
      "Author: Hubert Pham\n",
      "Author-email: \n",
      "License: MIT\n",
      "Location: C:\\Users\\Tanabe\\Development\\head-mouse-assistive-technology\\venv\\Lib\\site-packages\n",
      "Requires: \n",
      "Required-by: \n"
     ]
    }
   ],
   "source": [
    "# Ver versão do pyaudio instalada\n",
    "!pip show pyaudio"
   ]
  },
  {
   "cell_type": "code",
   "execution_count": null,
   "metadata": {},
   "outputs": [
    {
     "name": "stdout",
     "output_type": "stream",
     "text": [
      "Collecting pytest\n",
      "  Downloading pytest-8.3.3-py3-none-any.whl.metadata (7.5 kB)\n",
      "Collecting iniconfig (from pytest)\n",
      "  Downloading iniconfig-2.0.0-py3-none-any.whl.metadata (2.6 kB)\n",
      "Requirement already satisfied: packaging in c:\\users\\tanabe\\development\\head-mouse-assistive-technology\\venv\\lib\\site-packages (from pytest) (24.1)\n",
      "Collecting pluggy<2,>=1.5 (from pytest)\n",
      "  Downloading pluggy-1.5.0-py3-none-any.whl.metadata (4.8 kB)\n",
      "Requirement already satisfied: colorama in c:\\users\\tanabe\\development\\head-mouse-assistive-technology\\venv\\lib\\site-packages (from pytest) (0.4.6)\n",
      "Downloading pytest-8.3.3-py3-none-any.whl (342 kB)\n",
      "Downloading pluggy-1.5.0-py3-none-any.whl (20 kB)\n",
      "Downloading iniconfig-2.0.0-py3-none-any.whl (5.9 kB)\n",
      "Installing collected packages: pluggy, iniconfig, pytest\n",
      "Successfully installed iniconfig-2.0.0 pluggy-1.5.0 pytest-8.3.3\n"
     ]
    },
    {
     "name": "stderr",
     "output_type": "stream",
     "text": [
      "\n",
      "[notice] A new release of pip is available: 24.2 -> 24.3.1\n",
      "[notice] To update, run: python.exe -m pip install --upgrade pip\n"
     ]
    }
   ],
   "source": [
    "# Download do pytest\n",
    "!pip install pytest == 8.3.3"
   ]
  },
  {
   "cell_type": "code",
   "execution_count": 2,
   "metadata": {},
   "outputs": [
    {
     "name": "stdout",
     "output_type": "stream",
     "text": [
      "Name: pytest\n",
      "Version: 8.3.3\n",
      "Summary: pytest: simple powerful testing with Python\n",
      "Home-page: https://docs.pytest.org/en/latest/\n",
      "Author: Holger Krekel, Bruno Oliveira, Ronny Pfannschmidt, Floris Bruynooghe, Brianna Laugher, Florian Bruhin, Others (See AUTHORS)\n",
      "Author-email: \n",
      "License: MIT\n",
      "Location: C:\\Users\\Tanabe\\Development\\head-mouse-assistive-technology\\venv\\Lib\\site-packages\n",
      "Requires: colorama, iniconfig, packaging, pluggy\n",
      "Required-by: \n"
     ]
    }
   ],
   "source": [
    "# Ver versão do pytest instalada\n",
    "!pip show pytest"
   ]
  }
 ],
 "metadata": {
  "kernelspec": {
   "display_name": "venv",
   "language": "python",
   "name": "python3"
  },
  "language_info": {
   "codemirror_mode": {
    "name": "ipython",
    "version": 3
   },
   "file_extension": ".py",
   "mimetype": "text/x-python",
   "name": "python",
   "nbconvert_exporter": "python",
   "pygments_lexer": "ipython3",
   "version": "3.12.7"
  }
 },
 "nbformat": 4,
 "nbformat_minor": 2
}
